{
 "cells": [
  {
   "cell_type": "markdown",
   "metadata": {},
   "source": [
    "# Dickerson Lab NWB Reader\n",
    "\n",
    "This notebook demonstrates how to read and explore NWB files created by the Dickerson Lab's conversion script."
   ]
  },
  {
   "cell_type": "code",
   "execution_count": null,
   "metadata": {},
   "outputs": [],
   "source": [
    "import numpy as np\n",
    "import matplotlib.pyplot as plt\n",
    "from pynwb import read_nwb\n",
    "from pathlib import Path"
   ]
  },
  {
   "cell_type": "markdown",
   "metadata": {},
   "source": [
    "## Load the NWB file\n",
    "\n",
    "First, specify the path to your NWB file and load it using the NWBHDF5IO reader."
   ]
  },
  {
   "cell_type": "code",
   "execution_count": null,
   "metadata": {},
   "outputs": [],
   "source": [
    "# Replace with the path to your NWB file\n",
    "nwb_file_path = Path(\"/home/heberto/cohen_project/Sample data/Dickerson Lab/nwb_files/Sample_2.nwb\")\n",
    "\n",
    "# Open the NWB file\n",
    "nwbfile = read_nwb(nwb_file_path)\n",
    "nwbfile"
   ]
  },
  {
   "cell_type": "markdown",
   "metadata": {},
   "source": [
    "## Explore file metadata\n",
    "\n",
    "Let's first look at the general metadata in the NWB file."
   ]
  },
  {
   "cell_type": "code",
   "execution_count": null,
   "metadata": {},
   "outputs": [],
   "source": [
    "# Display general file metadata\n",
    "print(f\"NWB File: {nwbfile.identifier}\")\n",
    "print(f\"Session ID: {nwbfile.session_id}\")\n",
    "print(f\"Session Description: {nwbfile.session_description}\")\n",
    "print(f\"Session Start Time: {nwbfile.session_start_time}\")\n",
    "\n",
    "# Display subject information if available\n",
    "if nwbfile.subject is not None:\n",
    "    print(\"\\nSubject Information:\")\n",
    "    print(f\"Subject ID: {nwbfile.subject.subject_id}\")\n",
    "    if hasattr(nwbfile.subject, 'age'):\n",
    "        print(f\"Age: {nwbfile.subject.age}\")\n",
    "    if hasattr(nwbfile.subject, 'sex'):\n",
    "        print(f\"Sex: {nwbfile.subject.sex}\")\n",
    "    if hasattr(nwbfile.subject, 'genotype'):\n",
    "        print(f\"Genotype: {nwbfile.subject.genotype}\")"
   ]
  },
  {
   "cell_type": "markdown",
   "metadata": {},
   "source": [
    "## Explore devices and imaging metadata\n",
    "\n",
    "The Dickerson Lab NWB file contains metadata about the Thor imaging system and other devices."
   ]
  },
  {
   "cell_type": "code",
   "execution_count": null,
   "metadata": {},
   "outputs": [],
   "source": [
    "# Display devices\n",
    "print(\"Devices:\")\n",
    "for device_name, device in nwbfile.devices.items():\n",
    "    print(f\"- {device_name}\")\n",
    "    if hasattr(device, 'description') and device.description is not None:\n",
    "        print(f\"  Description: {device.description}\")\n",
    "    if hasattr(device, 'manufacturer') and device.manufacturer is not None:\n",
    "        print(f\"  Manufacturer: {device.manufacturer}\")"
   ]
  },
  {
   "cell_type": "code",
   "execution_count": null,
   "metadata": {},
   "outputs": [],
   "source": [
    "# Display imaging plane information\n",
    "if hasattr(nwbfile, 'imaging_planes') and len(nwbfile.imaging_planes) > 0:\n",
    "    print(\"\\nImaging Planes:\")\n",
    "    for plane_name, plane in nwbfile.imaging_planes.items():\n",
    "        print(f\"- {plane_name}\")\n",
    "        print(f\"  Description: {plane.description}\")\n",
    "        print(f\"  Indicator: {plane.indicator}\")\n",
    "        print(f\"  Location: {plane.location}\")\n",
    "        print(f\"  Excitation Lambda: {plane.excitation_lambda} nm\")\n",
    "        \n",
    "        # Display optical channel information\n",
    "        for i, channel in enumerate(plane.optical_channel):\n",
    "            print(f\"  Optical Channel {i+1}: {channel.name}\")\n",
    "            print(f\"    Description: {channel.description}\")\n",
    "            if hasattr(channel, 'emission_lambda') and channel.emission_lambda is not None:\n",
    "                print(f\"    Emission Lambda: {channel.emission_lambda} nm\")"
   ]
  },
  {
   "cell_type": "markdown",
   "metadata": {},
   "source": [
    "## Explore two-photon imaging data\n",
    "\n",
    "The Dickerson Lab NWB file contains two-photon calcium imaging data with GCaMP and tdTomato indicators."
   ]
  },
  {
   "cell_type": "code",
   "execution_count": null,
   "metadata": {},
   "outputs": [],
   "source": [
    "# Check for two-photon series data\n",
    "if hasattr(nwbfile, 'acquisition') and len(nwbfile.acquisition) > 0:\n",
    "    two_photon_series = [name for name in nwbfile.acquisition if 'two_photon' in name.lower() or 'twophoton' in name.lower()]\n",
    "    \n",
    "    if two_photon_series:\n",
    "        print(\"Two-Photon Series in acquisition:\")\n",
    "        for name in two_photon_series:\n",
    "            data = nwbfile.acquisition[name]\n",
    "            print(f\"- {name}\")\n",
    "            print(f\"  Description: {data.description}\")\n",
    "            print(f\"  Data shape: {data.data.shape}\")\n",
    "            print(f\"  Imaging plane: {data.imaging_plane.name}\")\n",
    "            print(f\"  Rate: {data.rate} Hz\")\n",
    "            print(f\"  Unit: {data.unit}\")\n",
    "    else:\n",
    "        print(\"No two-photon series found in acquisition.\")"
   ]
  },
  {
   "cell_type": "markdown",
   "metadata": {},
   "source": [
    "## Explore behavioral data\n",
    "\n",
    "The Dickerson Lab NWB file contains behavioral data including wing kinematics and visual stimulus tracking."
   ]
  },
  {
   "cell_type": "code",
   "execution_count": null,
   "metadata": {},
   "outputs": [],
   "source": [
    "# List all acquisition data\n",
    "print(\"Available acquisition data:\")\n",
    "for name in nwbfile.acquisition:\n",
    "    if 'two_photon' not in name.lower() and 'twophoton' not in name.lower():\n",
    "        print(f\"- {name}\")"
   ]
  },
  {
   "cell_type": "code",
   "execution_count": null,
   "metadata": {},
   "outputs": [],
   "source": [
    "# Plot wing kinematics data (if available)\n",
    "wing_data_names = [name for name in nwbfile.acquisition if 'wing' in name.lower()]\n",
    "\n",
    "if wing_data_names:\n",
    "    plt.figure(figsize=(12, 8))\n",
    "    for i, name in enumerate(wing_data_names):\n",
    "        data = nwbfile.acquisition[name]\n",
    "        plt.subplot(len(wing_data_names), 1, i+1)\n",
    "        \n",
    "        # Get timestamps and data\n",
    "        timestamps = data.timestamps[:] if data.timestamps is not None else np.arange(len(data.data))\n",
    "        plt.plot(timestamps, data.data[:])\n",
    "        \n",
    "        plt.title(name)\n",
    "        plt.xlabel('Time (s)')\n",
    "        plt.ylabel(f'{data.unit}')\n",
    "    \n",
    "    plt.tight_layout()\n",
    "    plt.show()\n",
    "else:\n",
    "    print(\"No wing kinematics data found in the file.\")"
   ]
  },
  {
   "cell_type": "markdown",
   "metadata": {},
   "source": [
    "## Explore visual stimulus data\n",
    "\n",
    "The Dickerson Lab NWB file contains visual stimulus data tracking in X and Y directions."
   ]
  },
  {
   "cell_type": "code",
   "execution_count": null,
   "metadata": {},
   "outputs": [],
   "source": [
    "# Check for stimulus data\n",
    "stimulus_data_names = [name for name in nwbfile.stimulus if 'visual' in name.lower() or 'stimulus' in name.lower()]\n",
    "\n",
    "if stimulus_data_names:\n",
    "    plt.figure(figsize=(12, 6))\n",
    "    for i, name in enumerate(stimulus_data_names):\n",
    "        data = nwbfile.stimulus[name]\n",
    "        \n",
    "        # Get timestamps and data\n",
    "        timestamps = data.timestamps[:] if data.timestamps is not None else np.arange(len(data.data))\n",
    "        \n",
    "        # Check if data is 2D (X and Y coordinates)\n",
    "        if len(data.data.shape) > 1 and data.data.shape[1] == 2:\n",
    "            plt.subplot(2, 1, 1)\n",
    "            plt.plot(timestamps, data.data[:, 0], label=f\"{name} - X\")\n",
    "            plt.title(f\"{name} - X Coordinate\")\n",
    "            plt.xlabel('Time (s)')\n",
    "            plt.ylabel(f'{data.unit}')\n",
    "            \n",
    "            plt.subplot(2, 1, 2)\n",
    "            plt.plot(timestamps, data.data[:, 1], label=f\"{name} - Y\")\n",
    "            plt.title(f\"{name} - Y Coordinate\")\n",
    "            plt.xlabel('Time (s)')\n",
    "            plt.ylabel(f'{data.unit}')\n",
    "        else:\n",
    "            plt.plot(timestamps, data.data[:], label=name)\n",
    "            plt.title(name)\n",
    "            plt.xlabel('Time (s)')\n",
    "            plt.ylabel(f'{data.unit}')\n",
    "    \n",
    "    plt.tight_layout()\n",
    "    plt.show()\n",
    "else:\n",
    "    print(\"No visual stimulus data found in the file.\")"
   ]
  },
  {
   "cell_type": "markdown",
   "metadata": {},
   "source": [
    "## Visualize two-photon imaging data\n",
    "\n",
    "Let's visualize a frame from the two-photon imaging data if available."
   ]
  },
  {
   "cell_type": "code",
   "execution_count": null,
   "metadata": {},
   "outputs": [],
   "source": [
    "# Find two-photon series data\n",
    "two_photon_series = [name for name in nwbfile.acquisition if 'two_photon' in name.lower() or 'twophoton' in name.lower()]\n",
    "\n",
    "if two_photon_series:\n",
    "    for name in two_photon_series:\n",
    "        data = nwbfile.acquisition[name]\n",
    "        \n",
    "        # Get a single frame (the first one)\n",
    "        frame_index = 0\n",
    "        frame = data.data[frame_index]\n",
    "        \n",
    "        plt.figure(figsize=(10, 8))\n",
    "        plt.imshow(frame, cmap='gray')\n",
    "        plt.title(f\"{name} - Frame {frame_index}\")\n",
    "        plt.colorbar(label='Intensity')\n",
    "        plt.show()\n",
    "        \n",
    "        print(f\"Displayed frame {frame_index} from {name}\")\n",
    "        print(f\"Frame shape: {frame.shape}\")\n",
    "else:\n",
    "    print(\"No two-photon series data found to visualize.\")"
   ]
  }
 ],
 "metadata": {
  "kernelspec": {
   "display_name": "work",
   "language": "python",
   "name": "python3"
  },
  "language_info": {
   "codemirror_mode": {
    "name": "ipython",
    "version": 3
   },
   "file_extension": ".py",
   "mimetype": "text/x-python",
   "name": "python",
   "nbconvert_exporter": "python",
   "pygments_lexer": "ipython3",
   "version": "3.11.9"
  }
 },
 "nbformat": 4,
 "nbformat_minor": 4
}
