{
 "cells": [
  {
   "cell_type": "markdown",
   "metadata": {},
   "source": [
    "# Kim Lab NWB Reader\n",
    "\n",
    "This notebook demonstrates how to read and explore NWB files created by the Kim Lab's conversion script."
   ]
  },
  {
   "cell_type": "code",
   "execution_count": null,
   "metadata": {},
   "outputs": [],
   "source": [
    "import numpy as np\n",
    "import matplotlib.pyplot as plt\n",
    "from pynwb import read_nwb\n",
    "from pathlib import Path"
   ]
  },
  {
   "cell_type": "markdown",
   "metadata": {},
   "source": [
    "## Load the NWB file\n",
    "\n",
    "First, specify the path to your NWB file and load it using the NWBHDF5IO reader."
   ]
  },
  {
   "cell_type": "code",
   "execution_count": null,
   "metadata": {},
   "outputs": [],
   "source": [
    "# Replace with the path to your NWB file\n",
    "nwbfile_path = Path(\"/home/heberto/cohen_project/Sample data/Kim Lab/nwb/20250301b_00007.nwb\")\n",
    "nwbfile_path = Path(\"/home/heberto/cohen_project/Sample data/Kim Lab/nwb/20240108b_00003.nwb\")\n",
    "\n",
    "# Open the NWB file\n",
    "nwbfile = read_nwb(nwbfile_path)\n",
    "nwbfile"
   ]
  },
  {
   "cell_type": "markdown",
   "metadata": {},
   "source": [
    "## Explore file metadata\n",
    "\n",
    "Let's first look at the general metadata in the NWB file."
   ]
  },
  {
   "cell_type": "code",
   "execution_count": null,
   "metadata": {},
   "outputs": [],
   "source": [
    "# Display general file metadata\n",
    "print(f\"NWB File: {nwbfile.identifier}\")\n",
    "print(f\"Session ID: {nwbfile.session_id}\")\n",
    "print(f\"Session Description: {nwbfile.session_description}\")\n",
    "print(f\"Session Start Time: {nwbfile.session_start_time}\")\n",
    "\n",
    "# Display subject information if available\n",
    "if nwbfile.subject is not None:\n",
    "    print(\"\\nSubject Information:\")\n",
    "    print(f\"Subject ID: {nwbfile.subject.subject_id}\")\n",
    "    if hasattr(nwbfile.subject, 'age'):\n",
    "        print(f\"Age: {nwbfile.subject.age}\")\n",
    "    if hasattr(nwbfile.subject, 'sex'):\n",
    "        print(f\"Sex: {nwbfile.subject.sex}\")\n",
    "    if hasattr(nwbfile.subject, 'genotype') and nwbfile.subject.genotype is not None:\n",
    "        print(f\"Genotype: {nwbfile.subject.genotype}\")\n",
    "    if hasattr(nwbfile.subject, 'strain') and nwbfile.subject.strain is not None:\n",
    "        print(f\"Strain: {nwbfile.subject.strain}\")"
   ]
  },
  {
   "cell_type": "markdown",
   "metadata": {},
   "source": [
    "## Explore devices and imaging metadata\n",
    "\n",
    "The Kim Lab NWB file contains metadata about the two-photon imaging system and other devices."
   ]
  },
  {
   "cell_type": "code",
   "execution_count": null,
   "metadata": {},
   "outputs": [],
   "source": [
    "# Display devices\n",
    "print(\"Devices:\")\n",
    "for device_name, device in nwbfile.devices.items():\n",
    "    print(f\"- {device_name}\")\n",
    "    if hasattr(device, 'description') and device.description is not None:\n",
    "        print(f\"  Description: {device.description}\")\n",
    "    if hasattr(device, 'manufacturer') and device.manufacturer is not None:\n",
    "        print(f\"  Manufacturer: {device.manufacturer}\")"
   ]
  },
  {
   "cell_type": "code",
   "execution_count": null,
   "metadata": {},
   "outputs": [],
   "source": [
    "# Display imaging plane information\n",
    "if hasattr(nwbfile, 'imaging_planes') and len(nwbfile.imaging_planes) > 0:\n",
    "    print(\"\\nImaging Planes:\")\n",
    "    for plane_name, plane in nwbfile.imaging_planes.items():\n",
    "        print(f\"- {plane_name}\")\n",
    "        print(f\"  Description: {plane.description}\")\n",
    "        if hasattr(plane, 'indicator') and plane.indicator is not None:\n",
    "            print(f\"  Indicator: {plane.indicator}\")\n",
    "        if hasattr(plane, 'location') and plane.location is not None:\n",
    "            print(f\"  Location: {plane.location}\")\n",
    "        if hasattr(plane, 'excitation_lambda') and plane.excitation_lambda is not None:\n",
    "            print(f\"  Excitation Lambda: {plane.excitation_lambda} nm\")\n",
    "        \n",
    "        # Display optical channel information\n",
    "        for i, channel in enumerate(plane.optical_channel):\n",
    "            print(f\"  Optical Channel {i+1}: {channel.name}\")\n",
    "            print(f\"    Description: {channel.description}\")\n",
    "            if hasattr(channel, 'emission_lambda') and channel.emission_lambda is not None:\n",
    "                print(f\"    Emission Lambda: {channel.emission_lambda} nm\")"
   ]
  },
  {
   "cell_type": "markdown",
   "metadata": {},
   "source": [
    "## Explore behavioral data\n",
    "\n",
    "The Kim Lab NWB file contains behavioral data including wingbeat amplitude and flight dynamics."
   ]
  },
  {
   "cell_type": "code",
   "execution_count": null,
   "metadata": {},
   "outputs": [],
   "source": [
    "# List all acquisition data\n",
    "print(\"Available acquisition data:\")\n",
    "for name in nwbfile.acquisition:\n",
    "    print(f\"- {name}\")"
   ]
  },
  {
   "cell_type": "code",
   "execution_count": null,
   "metadata": {},
   "outputs": [],
   "source": [
    "# Plot wing kinematics data (if available)\n",
    "wing_data_names = [name for name in nwbfile.acquisition if 'wing' in name.lower()]\n",
    "\n",
    "if wing_data_names:\n",
    "    plt.figure(figsize=(12, 8))\n",
    "    for i, name in enumerate(wing_data_names):\n",
    "        data = nwbfile.acquisition[name]\n",
    "        plt.subplot(len(wing_data_names), 1, i+1)\n",
    "        \n",
    "        # Get timestamps and data\n",
    "        timestamps = data.timestamps[:] if data.timestamps is not None else np.arange(len(data.data))\n",
    "        \n",
    "        # Plot a subset of the data to avoid overwhelming the plot\n",
    "        max_points = 10000\n",
    "        if len(timestamps) > max_points:\n",
    "            step = len(timestamps) // max_points\n",
    "            plt.plot(timestamps[::step], data.data[::step])\n",
    "        else:\n",
    "            plt.plot(timestamps, data.data[:])\n",
    "        \n",
    "        plt.title(name)\n",
    "        plt.xlabel('Time (s)')\n",
    "        plt.ylabel(f'{data.unit}')\n",
    "    \n",
    "    plt.tight_layout()\n",
    "    plt.show()\n",
    "else:\n",
    "    print(\"No wing kinematics data found in the file.\")"
   ]
  },
  {
   "cell_type": "code",
   "execution_count": null,
   "metadata": {},
   "outputs": [],
   "source": [
    "# Plot stimulus position data (if available)\n",
    "position_data_names = [name for name in nwbfile.acquisition if 'position' in name.lower() or 'stimulus' in name.lower()]\n",
    "\n",
    "if position_data_names:\n",
    "    plt.figure(figsize=(12, 10))\n",
    "    for i, name in enumerate(position_data_names):\n",
    "        data = nwbfile.acquisition[name]\n",
    "        \n",
    "        # Get timestamps and data\n",
    "        timestamps = data.timestamps[:] if data.timestamps is not None else np.arange(len(data.data))\n",
    "        \n",
    "        # Check if data is 2D (X and Y coordinates)\n",
    "        if len(data.data.shape) > 1 and data.data.shape[1] == 2:\n",
    "            plt.subplot(4, 1, 1)\n",
    "            plt.plot(timestamps, data.data[:, 0], label=f\"{name} - X\")\n",
    "            plt.title(f\"{name} - X Coordinate\")\n",
    "            plt.xlabel('Time (s)')\n",
    "            plt.ylabel(f'{data.unit}')\n",
    "            \n",
    "            plt.subplot(4, 1, 2)\n",
    "            plt.plot(timestamps, data.data[:, 1], label=f\"{name} - Y\")\n",
    "            plt.title(f\"{name} - Y Coordinate\")\n",
    "            plt.xlabel('Time (s)')\n",
    "            plt.ylabel(f'{data.unit}')\n",
    "            \n",
    "            # Add X vs Y plot\n",
    "            plt.subplot(4, 1, 3)\n",
    "            plt.plot(data.data[:, 0], data.data[:, 1], label=f\"{name} - X vs Y\")\n",
    "            plt.title(f\"{name} - XY Trajectory\")\n",
    "            plt.xlabel('X Position')\n",
    "            plt.ylabel('Y Position')\n",
    "            plt.axis('equal')\n",
    "            \n",
    "        else:\n",
    "            plt.subplot(4, 1, 4)\n",
    "            plt.plot(timestamps, data.data[:], label=name)\n",
    "            plt.title(name)\n",
    "            plt.xlabel('Time (s)')\n",
    "            plt.ylabel(f'{data.unit}')\n",
    "    \n",
    "    plt.tight_layout()\n",
    "    plt.show()\n",
    "else:\n",
    "    print(\"No stimulus position data found in the file.\")"
   ]
  },
  {
   "cell_type": "markdown",
   "metadata": {},
   "source": [
    "## Explore two-photon imaging data\n",
    "\n",
    "The Kim Lab NWB file contains two-photon calcium imaging data."
   ]
  },
  {
   "cell_type": "code",
   "execution_count": null,
   "metadata": {},
   "outputs": [],
   "source": [
    "# Check for two-photon series data\n",
    "two_photon_series = [name for name in nwbfile.acquisition if 'two_photon' in name.lower() or 'twophoton' in name.lower()]\n",
    "\n",
    "if two_photon_series:\n",
    "    print(\"Two-Photon Series in acquisition:\")\n",
    "    for name in two_photon_series:\n",
    "        data = nwbfile.acquisition[name]\n",
    "        print(f\"- {name}\")\n",
    "        if hasattr(data, 'description') and data.description is not None:\n",
    "            print(f\"  Description: {data.description}\")\n",
    "        if hasattr(data, 'data') and data.data is not None:\n",
    "            print(f\"  Data shape: {data.data.shape}\")\n",
    "        if hasattr(data, 'imaging_plane') and data.imaging_plane is not None:\n",
    "            print(f\"  Imaging plane: {data.imaging_plane.name}\")\n",
    "        if hasattr(data, 'rate') and data.rate is not None:\n",
    "            print(f\"  Rate: {data.rate} Hz\")\n",
    "        if hasattr(data, 'unit') and data.unit is not None:\n",
    "            print(f\"  Unit: {data.unit}\")\n",
    "else:\n",
    "    print(\"No two-photon series found in acquisition.\")"
   ]
  },
  {
   "cell_type": "code",
   "execution_count": null,
   "metadata": {},
   "outputs": [],
   "source": [
    "# Visualize a frame from the two-photon imaging data if available\n",
    "plane_index = 0\n",
    "if two_photon_series:\n",
    "    for name in two_photon_series:\n",
    "        data = nwbfile.acquisition[name]\n",
    "        \n",
    "        # Get a single frame (the first one)\n",
    "        frame_index = 0\n",
    "        frame = data.data[frame_index]\n",
    "        \n",
    "        plt.figure(figsize=(10, 8))\n",
    "        plt.imshow(frame[..., plane_index], cmap='gray')\n",
    "        plt.title(f\"{name} - Frame {frame_index} - Plane {plane_index}\")\n",
    "        plt.colorbar(label='Intensity')\n",
    "        plt.show()\n",
    "        \n",
    "        print(f\"Displayed frame {frame_index} from {name}\")\n",
    "        print(f\"Frame shape: {frame.shape}\")\n",
    "else:\n",
    "    print(\"No two-photon series data found to visualize.\")"
   ]
  },
  {
   "cell_type": "markdown",
   "metadata": {},
   "source": [
    "## Explore ROI data\n",
    "\n",
    "The Kim Lab NWB file may contain ROI fluorescence traces and coordinates."
   ]
  },
  {
   "cell_type": "code",
   "execution_count": null,
   "metadata": {},
   "outputs": [],
   "source": [
    "# Check for ROI data in processing modules\n",
    "if hasattr(nwbfile, 'processing') and len(nwbfile.processing) > 0:\n",
    "    print(\"Processing modules:\")\n",
    "    for module_name, module in nwbfile.processing.items():\n",
    "        print(f\"- {module_name}\")\n",
    "        if hasattr(module, 'description') and module.description is not None:\n",
    "            print(f\"  Description: {module.description}\")\n",
    "        \n",
    "        # List data interfaces in the module\n",
    "        print(\"  Data interfaces:\")\n",
    "        for data_name, data_interface in module.data_interfaces.items():\n",
    "            print(f\"  - {data_name} ({type(data_interface).__name__})\")\n",
    "            \n",
    "            # If it's a ROI table, print more details\n",
    "            if 'roi' in type(data_interface).__name__.lower() or 'plane' in type(data_interface).__name__.lower():\n",
    "                if hasattr(data_interface, 'description') and data_interface.description is not None:\n",
    "                    print(f\"    Description: {data_interface.description}\")\n",
    "                \n",
    "                # Check for ROI table\n",
    "                if hasattr(data_interface, 'rois') and data_interface.rois is not None:\n",
    "                    print(f\"    Number of ROIs: {len(data_interface.rois)}\")\n",
    "                    print(f\"    ROI columns: {list(data_interface.rois.colnames)}\")\n",
    "                \n",
    "                # Check for fluorescence traces\n",
    "                if hasattr(data_interface, 'roi_response_series') and data_interface.roi_response_series is not None:\n",
    "                    print(f\"    Number of ROI response series: {len(data_interface.roi_response_series)}\")\n",
    "                    \n",
    "                    # Print details for each ROI response series\n",
    "                    for series_name, series in data_interface.roi_response_series.items():\n",
    "                        print(f\"    - {series_name}\")\n",
    "                        if hasattr(series, 'description') and series.description is not None:\n",
    "                            print(f\"      Description: {series.description}\")\n",
    "                        if hasattr(series, 'data') and series.data is not None:\n",
    "                            print(f\"      Data shape: {series.data.shape}\")\n",
    "else:\n",
    "    print(\"No processing modules found in the file.\")"
   ]
  },
  {
   "cell_type": "code",
   "execution_count": null,
   "metadata": {},
   "outputs": [],
   "source": [
    "# Plot ROI fluorescence traces if available\n",
    "roi_response_series = None\n",
    "\n",
    "# Find ROI response series in processing modules\n",
    "if hasattr(nwbfile, 'processing') and len(nwbfile.processing) > 0:\n",
    "    for module_name, module in nwbfile.processing.items():\n",
    "        for data_name, data_interface in module.data_interfaces.items():\n",
    "            if hasattr(data_interface, 'roi_response_series') and data_interface.roi_response_series is not None:\n",
    "                for series_name, series in data_interface.roi_response_series.items():\n",
    "                    roi_response_series = series\n",
    "                    break\n",
    "                if roi_response_series is not None:\n",
    "                    break\n",
    "        if roi_response_series is not None:\n",
    "            break\n",
    "\n",
    "if roi_response_series is not None:\n",
    "    # Get timestamps and data\n",
    "    timestamps = roi_response_series.timestamps[:] if roi_response_series.timestamps is not None else np.arange(len(roi_response_series.data))\n",
    "    data = roi_response_series.data[:]\n",
    "    \n",
    "    # Plot fluorescence traces for a subset of ROIs\n",
    "    num_rois_to_plot = min(5, data.shape[0])  # Plot up to 5 ROIs\n",
    "    \n",
    "    plt.figure(figsize=(12, 8))\n",
    "    for i in range(num_rois_to_plot):\n",
    "        plt.plot(timestamps, data[:, i], label=f\"ROI {i}\")\n",
    "    \n",
    "    plt.title(f\"{series_name} - ROI Fluorescence Traces\")\n",
    "    plt.xlabel('Time (s)')\n",
    "    plt.ylabel('Fluorescence')\n",
    "    plt.legend()\n",
    "    plt.show()\n",
    "else:\n",
    "    print(\"No ROI fluorescence traces found to plot.\")"
   ]
  },
  {
   "cell_type": "markdown",
   "metadata": {},
   "source": [
    "## Explore visual stimuli data\n",
    "\n",
    "The Kim Lab NWB file may contain visual stimuli presentation data."
   ]
  },
  {
   "cell_type": "code",
   "execution_count": null,
   "metadata": {},
   "outputs": [],
   "source": [
    "# Check for visual stimuli data\n",
    "stimuli_data_names = [name for name in nwbfile.stimulus if 'visual' in name.lower() or 'stimuli' in name.lower() or 'stimulus' in name.lower()]\n",
    "\n",
    "if stimuli_data_names:\n",
    "    print(\"Available visual stimuli data:\")\n",
    "    for name in stimuli_data_names:\n",
    "        data = nwbfile.stimulus[name]\n",
    "        print(f\"- {name}\")\n",
    "        if hasattr(data, 'description') and data.description is not None:\n",
    "            print(f\"  Description: {data.description}\")\n",
    "        if hasattr(data, 'data') and data.data is not None:\n",
    "            print(f\"  Data shape: {data.data.shape}\")\n",
    "        if hasattr(data, 'timestamps') and data.timestamps is not None:\n",
    "            print(f\"  Number of timestamps: {len(data.timestamps)}\")\n",
    "            print(f\"  First timestamp: {data.timestamps[0]}\")\n",
    "            print(f\"  Last timestamp: {data.timestamps[-1]}\")\n",
    "        elif hasattr(data, 'rate') and data.rate is not None:\n",
    "            print(f\"  Rate: {data.rate} Hz\")\n",
    "    \n",
    "    # Plot visual stimuli data if it's 1D or 2D\n",
    "    for name in stimuli_data_names:\n",
    "        data = nwbfile.stimulus[name]\n",
    "        if hasattr(data, 'data') and data.data is not None:\n",
    "            if len(data.data.shape) <= 2:\n",
    "                timestamps = data.timestamps[:] if data.timestamps is not None else np.arange(len(data.data))\n",
    "                \n",
    "                plt.figure(figsize=(12, 6))\n",
    "                plt.plot(timestamps, data.data[:])\n",
    "                plt.title(f\"{name}\")\n",
    "                plt.xlabel('Time (s)')\n",
    "                plt.ylabel('Value')\n",
    "                plt.show()\n",
    "            else:\n",
    "                print(f\"Data for {name} has shape {data.data.shape}, which is too complex to plot directly.\")\n",
    "else:\n",
    "    print(\"No visual stimuli data found in the file.\")"
   ]
  },
  {
   "cell_type": "markdown",
   "metadata": {},
   "source": [
    "## Explore video data\n",
    "\n",
    "The Kim Lab NWB file may contain video recordings of fly behavior."
   ]
  },
  {
   "cell_type": "code",
   "execution_count": null,
   "metadata": {},
   "outputs": [],
   "source": [
    "# Check for video data\n",
    "video_data_names = [name for name in nwbfile.acquisition if 'video' in name.lower() or 'camera' in name.lower()]\n",
    "\n",
    "if video_data_names:\n",
    "    print(\"Available video data:\")\n",
    "    for name in video_data_names:\n",
    "        data = nwbfile.acquisition[name]\n",
    "        print(f\"- {name}\")\n",
    "        if hasattr(data, 'description') and data.description is not None:\n",
    "            print(f\"  Description: {data.description}\")\n",
    "        \n",
    "        # Check if it's an external file\n",
    "        if hasattr(data, 'external_file') and data.external_file is not None:\n",
    "            print(f\"  External file: {data.external_file}\")\n",
    "            print(f\"  Format: {data.format}\")\n",
    "        elif hasattr(data, 'data') and data.data is not None:\n",
    "            print(f\"  Data shape: {data.data.shape}\")\n",
    "        \n",
    "        # Check for timestamps\n",
    "        if hasattr(data, 'timestamps') and data.timestamps is not None:\n",
    "            print(f\"  Number of timestamps: {len(data.timestamps)}\")\n",
    "            print(f\"  First timestamp: {data.timestamps[0]}\")\n",
    "            print(f\"  Last timestamp: {data.timestamps[-1]}\")\n",
    "        elif hasattr(data, 'rate') and data.rate is not None:\n",
    "            print(f\"  Rate: {data.rate} Hz\")\n",
    "else:\n",
    "    print(\"No video data found in the file.\")"
   ]
  },
  {
   "cell_type": "code",
   "execution_count": null,
   "metadata": {},
   "outputs": [],
   "source": []
  },
  {
   "cell_type": "code",
   "execution_count": null,
   "metadata": {},
   "outputs": [],
   "source": []
  }
 ],
 "metadata": {
  "kernelspec": {
   "display_name": "work",
   "language": "python",
   "name": "python3"
  },
  "language_info": {
   "codemirror_mode": {
    "name": "ipython",
    "version": 3
   },
   "file_extension": ".py",
   "mimetype": "text/x-python",
   "name": "python",
   "nbconvert_exporter": "python",
   "pygments_lexer": "ipython3",
   "version": "3.11.9"
  }
 },
 "nbformat": 4,
 "nbformat_minor": 4
}
