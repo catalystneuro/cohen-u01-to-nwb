{
 "cells": [
  {
   "cell_type": "markdown",
   "metadata": {},
   "source": [
    "# Cohen Lab Confocal Microscopy NWB Reader\n",
    "\n",
    "This notebook demonstrates how to read and explore NWB files created by the Cohen Lab's confocal microscopy conversion script."
   ]
  },
  {
   "cell_type": "code",
   "execution_count": null,
   "metadata": {},
   "outputs": [],
   "source": [
    "import numpy as np\n",
    "import matplotlib.pyplot as plt\n",
    "from pynwb import read_nwb\n",
    "from pathlib import Path"
   ]
  },
  {
   "cell_type": "markdown",
   "metadata": {},
   "source": [
    "## Load the NWB file\n",
    "\n",
    "First, specify the path to your NWB file and load it using the read_nwb function."
   ]
  },
  {
   "cell_type": "code",
   "execution_count": null,
   "metadata": {},
   "outputs": [],
   "source": [
    "# Replace with the path to your NWB file\n",
    "nwb_file_path = Path(\"/home/heberto/cohen_project/Sample data/Cohen Lab/nwb_files/tp1-alt_VNC2.nwb\")\n",
    "\n",
    "# Open the NWB file\n",
    "nwbfile = read_nwb(nwb_file_path)\n",
    "nwbfile"
   ]
  },
  {
   "cell_type": "markdown",
   "metadata": {},
   "source": [
    "## Explore file metadata\n",
    "\n",
    "Let's first look at the general metadata in the NWB file."
   ]
  },
  {
   "cell_type": "code",
   "execution_count": null,
   "metadata": {},
   "outputs": [],
   "source": [
    "# Display general file metadata\n",
    "print(f\"NWB File: {nwbfile.identifier}\")\n",
    "print(f\"Session ID: {nwbfile.session_id}\")\n",
    "print(f\"Session Description: {nwbfile.session_description}\")\n",
    "print(f\"Session Start Time: {nwbfile.session_start_time}\")\n",
    "\n",
    "# Display subject information if available\n",
    "if nwbfile.subject is not None:\n",
    "    print(\"\\nSubject Information:\")\n",
    "    print(f\"Subject ID: {nwbfile.subject.subject_id}\")\n",
    "    if hasattr(nwbfile.subject, 'age'):\n",
    "        print(f\"Age: {nwbfile.subject.age}\")\n",
    "    if hasattr(nwbfile.subject, 'sex'):\n",
    "        print(f\"Sex: {nwbfile.subject.sex}\")\n",
    "    if hasattr(nwbfile.subject, 'genotype'):\n",
    "        print(f\"Genotype: {nwbfile.subject.genotype}\")"
   ]
  },
  {
   "cell_type": "markdown",
   "metadata": {},
   "source": [
    "## Explore microscope metadata\n",
    "\n",
    "The confocal microscopy NWB file contains metadata about the microscope used for imaging."
   ]
  },
  {
   "cell_type": "code",
   "execution_count": null,
   "metadata": {},
   "outputs": [],
   "source": [
    "# Display devices (microscope information)\n",
    "print(\"Devices:\")\n",
    "for device_name, device in nwbfile.devices.items():\n",
    "    print(f\"- {device_name}\")\n",
    "    if hasattr(device, 'description') and device.description is not None:\n",
    "        print(f\"  Description: {device.description}\")\n",
    "    if hasattr(device, 'manufacturer') and device.manufacturer is not None:\n",
    "        print(f\"  Manufacturer: {device.manufacturer}\")"
   ]
  },
  {
   "cell_type": "markdown",
   "metadata": {},
   "source": [
    "## Explore image data\n",
    "\n",
    "The confocal microscopy NWB file contains Z-stack image data with multiple fluorescence channels."
   ]
  },
  {
   "cell_type": "code",
   "execution_count": null,
   "metadata": {},
   "outputs": [],
   "source": [
    "# Check for image series data in acquisition\n",
    "image_series_names = [name for name in nwbfile.acquisition if 'image' in name.lower()]\n",
    "\n",
    "if image_series_names:\n",
    "    print(\"Available image data in acquisition:\")\n",
    "    for name in image_series_names:\n",
    "        data = nwbfile.acquisition[name]\n",
    "        print(f\"- {name}\")\n",
    "        if hasattr(data, 'description') and data.description is not None:\n",
    "            print(f\"  Description: {data.description}\")\n",
    "        if hasattr(data, 'data') and data.data is not None:\n",
    "            print(f\"  Data shape: {data.data.shape}\")\n",
    "        if hasattr(data, 'unit') and data.unit is not None:\n",
    "            print(f\"  Unit: {data.unit}\")\n",
    "else:\n",
    "    print(\"No image data found in acquisition.\")"
   ]
  },
  {
   "cell_type": "code",
   "execution_count": null,
   "metadata": {},
   "outputs": [],
   "source": [
    "image_container = nwbfile.acquisition[\"ConfocalImagesAlexaFluor488\"]\n",
    "image_container"
   ]
  },
  {
   "cell_type": "code",
   "execution_count": null,
   "metadata": {},
   "outputs": [],
   "source": [
    "image_in_stack = image_container.images[\"ConfocalImagesAlexaFluor488_z0\"]\n",
    "image_data = image_in_stack.data[:]\n",
    "        \n",
    "# Determine the shape and dimensions\n",
    "print(f\"Image data '{name}' shape: {image_data.shape}\")\n",
    "\n",
    "plt.imshow(image_data)"
   ]
  }
 ],
 "metadata": {
  "kernelspec": {
   "display_name": "work",
   "language": "python",
   "name": "python3"
  },
  "language_info": {
   "codemirror_mode": {
    "name": "ipython",
    "version": 3
   },
   "file_extension": ".py",
   "mimetype": "text/x-python",
   "name": "python",
   "nbconvert_exporter": "python",
   "pygments_lexer": "ipython3",
   "version": "3.11.9"
  }
 },
 "nbformat": 4,
 "nbformat_minor": 4
}
