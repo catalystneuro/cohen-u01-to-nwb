{
 "cells": [
  {
   "cell_type": "markdown",
   "metadata": {},
   "source": [
    "# Cohen Lab Free Flight Optogenetics NWB Reader\n",
    "\n",
    "This notebook demonstrates how to read and explore NWB files created by the Cohen Lab's free flight optogenetics conversion script."
   ]
  },
  {
   "cell_type": "code",
   "execution_count": null,
   "metadata": {},
   "outputs": [],
   "source": [
    "import numpy as np\n",
    "import matplotlib.pyplot as plt\n",
    "from pynwb import read_nwb\n",
    "from pathlib import Path"
   ]
  },
  {
   "cell_type": "markdown",
   "metadata": {},
   "source": [
    "## Load the NWB file\n",
    "\n",
    "First, specify the path to your NWB file and load it using the read_nwb function."
   ]
  },
  {
   "cell_type": "code",
   "execution_count": null,
   "metadata": {},
   "outputs": [],
   "source": [
    "# Replace with the path to your NWB file\n",
    "folder_path = Path(\"/home/heberto/cohen_project/Sample data/Cohen Lab/nwb_files/SS40851  UAS-CsChrimson/0.67A Opto Activation\")\n",
    "nwb_file_path = folder_path / \"05042023_SS40851_UAS-CsChrimson_0.67_001.nwb\"\n",
    "\n",
    "# Open the NWB file\n",
    "nwbfile = read_nwb(nwb_file_path)\n",
    "nwbfile"
   ]
  },
  {
   "cell_type": "markdown",
   "metadata": {},
   "source": [
    "## Explore file metadata\n",
    "\n",
    "Let's first look at the general metadata in the NWB file."
   ]
  },
  {
   "cell_type": "code",
   "execution_count": null,
   "metadata": {},
   "outputs": [],
   "source": [
    "# Display general file metadata\n",
    "print(f\"NWB File: {nwbfile.identifier}\")\n",
    "print(f\"Session ID: {nwbfile.session_id}\")\n",
    "print(f\"Session Description: {nwbfile.session_description}\")\n",
    "print(f\"Session Start Time: {nwbfile.session_start_time}\")\n",
    "\n",
    "# Display subject information\n",
    "if nwbfile.subject is not None:\n",
    "    print(\"\\nSubject Information:\")\n",
    "    print(f\"Subject ID: {nwbfile.subject.subject_id}\")\n",
    "    if hasattr(nwbfile.subject, 'age'):\n",
    "        print(f\"Age: {nwbfile.subject.age}\")\n",
    "    if hasattr(nwbfile.subject, 'sex'):\n",
    "        print(f\"Sex: {nwbfile.subject.sex}\")\n",
    "    if hasattr(nwbfile.subject, 'genotype'):\n",
    "        print(f\"Genotype: {nwbfile.subject.genotype}\")"
   ]
  },
  {
   "cell_type": "markdown",
   "metadata": {},
   "source": [
    "## Explore wing and body kinematics data\n",
    "\n",
    "The free flight optogenetics NWB file contains time series data for wing and body kinematics."
   ]
  },
  {
   "cell_type": "code",
   "execution_count": null,
   "metadata": {},
   "outputs": [],
   "source": [
    "# List all acquisition data\n",
    "print(\"Available acquisition data:\")\n",
    "for name in nwbfile.acquisition:\n",
    "    print(f\"- {name}\")"
   ]
  },
  {
   "cell_type": "code",
   "execution_count": null,
   "metadata": {},
   "outputs": [],
   "source": [
    "# Plot wing kinematics data (if available)\n",
    "# The exact names may vary based on the specific conversion\n",
    "wing_data_names = [name for name in nwbfile.acquisition if 'wing' in name.lower()]\n",
    "\n",
    "if wing_data_names:\n",
    "    plt.figure(figsize=(12, 8))\n",
    "    for i, name in enumerate(wing_data_names):\n",
    "        data = nwbfile.acquisition[name]\n",
    "        spatial_series_container = data.spatial_series\n",
    "        for series_name in spatial_series_container:\n",
    "            spatial_series = spatial_series_container[series_name]\n",
    "            print(f\"Series: {series_name}, Unit: {spatial_series.unit}\")\n",
    "            data = spatial_series\n",
    "            \n",
    "            plt.subplot(len(wing_data_names), 1, i+1)\n",
    "        \n",
    "            # Get timestamps and data\n",
    "            timestamps = data.timestamps[:] if data.timestamps is not None else np.arange(len(data.data))\n",
    "            plt.plot(timestamps, data.data[:])\n",
    "        \n",
    "            plt.title(name)\n",
    "            plt.xlabel('Time (s)')\n",
    "            plt.ylabel(f'{data.unit}')\n",
    "    \n",
    "    plt.tight_layout()\n",
    "    plt.show()\n",
    "else:\n",
    "    print(\"No wing kinematics data found in the file.\")"
   ]
  }
 ],
 "metadata": {
  "kernelspec": {
   "display_name": "work",
   "language": "python",
   "name": "python3"
  },
  "language_info": {
   "codemirror_mode": {
    "name": "ipython",
    "version": 3
   },
   "file_extension": ".py",
   "mimetype": "text/x-python",
   "name": "python",
   "nbconvert_exporter": "python",
   "pygments_lexer": "ipython3",
   "version": "3.11.9"
  }
 },
 "nbformat": 4,
 "nbformat_minor": 4
}
