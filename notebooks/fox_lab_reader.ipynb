{
 "cells": [
  {
   "cell_type": "markdown",
   "metadata": {},
   "source": [
    "# Fox Lab NWB Reader\n",
    "\n",
    "This notebook demonstrates how to read and explore NWB files created by the Fox Lab's conversion script."
   ]
  },
  {
   "cell_type": "code",
   "execution_count": null,
   "metadata": {},
   "outputs": [],
   "source": [
    "import numpy as np\n",
    "import matplotlib.pyplot as plt\n",
    "from pynwb import read_nwb\n",
    "from pathlib import Path"
   ]
  },
  {
   "cell_type": "markdown",
   "metadata": {},
   "source": [
    "## Load the NWB file\n",
    "\n",
    "First, specify the path to your NWB file and load it using the read_nwb function."
   ]
  },
  {
   "cell_type": "code",
   "execution_count": null,
   "metadata": {},
   "outputs": [],
   "source": [
    "# Replace with the path to your NWB file\n",
    "nwbfile_path = Path(\"/home/heberto/conversion_nwb/Fly3_240124_115923.nwb\")\n",
    "\n",
    "# Open the NWB file\n",
    "nwbfile = read_nwb(nwbfile_path)\n",
    "nwbfile"
   ]
  },
  {
   "cell_type": "markdown",
   "metadata": {},
   "source": [
    "## Explore file metadata\n",
    "\n",
    "Let's first look at the general metadata in the NWB file."
   ]
  },
  {
   "cell_type": "code",
   "execution_count": null,
   "metadata": {},
   "outputs": [],
   "source": [
    "# Display general file metadata\n",
    "print(f\"NWB File: {nwbfile.identifier}\")\n",
    "print(f\"Session ID: {nwbfile.session_id}\")\n",
    "print(f\"Session Description: {nwbfile.session_description}\")\n",
    "print(f\"Session Start Time: {nwbfile.session_start_time}\")\n",
    "\n",
    "# Display subject information if available\n",
    "if nwbfile.subject is not None:\n",
    "    print(\"\\nSubject Information:\")\n",
    "    print(f\"Subject ID: {nwbfile.subject.subject_id}\")\n",
    "    if hasattr(nwbfile.subject, 'age'):\n",
    "        print(f\"Age: {nwbfile.subject.age}\")\n",
    "    if hasattr(nwbfile.subject, 'sex'):\n",
    "        print(f\"Sex: {nwbfile.subject.sex}\")\n",
    "    if hasattr(nwbfile.subject, 'genotype'):\n",
    "        print(f\"Genotype: {nwbfile.subject.genotype}\")"
   ]
  },
  {
   "cell_type": "markdown",
   "metadata": {},
   "source": [
    "## Explore devices and camera metadata\n",
    "\n",
    "The Fox Lab NWB file contains metadata about the cameras and other devices used for recording."
   ]
  },
  {
   "cell_type": "code",
   "execution_count": null,
   "metadata": {},
   "outputs": [],
   "source": [
    "# Display devices\n",
    "print(\"Devices:\")\n",
    "for device_name, device in nwbfile.devices.items():\n",
    "    print(f\"- {device_name}\")\n",
    "    if hasattr(device, 'description') and device.description is not None:\n",
    "        print(f\"  Description: {device.description}\")\n",
    "    if hasattr(device, 'manufacturer') and device.manufacturer is not None:\n",
    "        print(f\"  Manufacturer: {device.manufacturer}\")"
   ]
  },
  {
   "cell_type": "markdown",
   "metadata": {},
   "source": [
    "## Explore video data\n",
    "\n",
    "The Fox Lab NWB file contains multiple synchronized camera recordings (side, top, and haltere views)."
   ]
  },
  {
   "cell_type": "code",
   "execution_count": null,
   "metadata": {},
   "outputs": [],
   "source": [
    "# Check for image series data in acquisition\n",
    "video_series_names = [name for name in nwbfile.acquisition if 'video' in name.lower() or 'cam' in name.lower()]\n",
    "\n",
    "if video_series_names:\n",
    "    print(\"Available video data in acquisition:\")\n",
    "    for name in video_series_names:\n",
    "        data = nwbfile.acquisition[name]\n",
    "        print(f\"- {name}\")\n",
    "        if hasattr(data, 'description') and data.description is not None:\n",
    "            print(f\"  Description: {data.description}\")\n",
    "        \n",
    "        # Check if it's an external file\n",
    "        if hasattr(data, 'external_file') and data.external_file is not None:\n",
    "            print(f\"  External file: {data.external_file}\")\n",
    "            print(f\"  Format: {data.format}\")\n",
    "        elif hasattr(data, 'data') and data.data is not None:\n",
    "            print(f\"  Data shape: {data.data.shape}\")\n",
    "        \n",
    "        # Check for timestamps\n",
    "        if hasattr(data, 'timestamps') and data.timestamps is not None:\n",
    "            print(f\"  Number of timestamps: {len(data.timestamps)}\")\n",
    "            print(f\"  First timestamp: {data.timestamps[0]}\")\n",
    "            print(f\"  Last timestamp: {data.timestamps[-1]}\")\n",
    "        elif hasattr(data, 'rate') and data.rate is not None:\n",
    "            print(f\"  Rate: {data.rate} Hz\")\n",
    "else:\n",
    "    print(\"No video data found in acquisition.\")"
   ]
  },
  {
   "cell_type": "markdown",
   "metadata": {},
   "source": [
    "## Explore wing kinematics data\n",
    "\n",
    "The Fox Lab NWB file contains detailed wing kinematics data including wing beat amplitude, frequency, and voltage recordings."
   ]
  },
  {
   "cell_type": "code",
   "execution_count": null,
   "metadata": {},
   "outputs": [],
   "source": [
    "# List all acquisition data related to wing kinematics\n",
    "wing_data_names = [name for name in nwbfile.acquisition if 'wing' in name.lower()]\n",
    "\n",
    "if wing_data_names:\n",
    "    print(\"Available wing kinematics data:\")\n",
    "    for name in wing_data_names:\n",
    "        data = nwbfile.acquisition[name]\n",
    "        print(f\"- {name}\")\n",
    "        if hasattr(data, 'description') and data.description is not None:\n",
    "            print(f\"  Description: {data.description}\")\n",
    "        if hasattr(data, 'unit') and data.unit is not None:\n",
    "            print(f\"  Unit: {data.unit}\")\n",
    "        if hasattr(data, 'data') and data.data is not None:\n",
    "            print(f\"  Data shape: {data.data.shape}\")\n",
    "        if hasattr(data, 'conversion') and data.conversion is not None:\n",
    "            print(f\"  Conversion factor: {data.conversion}\")\n",
    "else:\n",
    "    print(\"No wing kinematics data found in the file.\")"
   ]
  },
  {
   "cell_type": "code",
   "execution_count": null,
   "metadata": {},
   "outputs": [],
   "source": [
    "# Plot wing kinematics data\n",
    "if wing_data_names:\n",
    "    plt.figure(figsize=(12, 8))\n",
    "    for i, name in enumerate(wing_data_names):\n",
    "        data = nwbfile.acquisition[name]\n",
    "        plt.subplot(len(wing_data_names), 1, i+1)\n",
    "        \n",
    "        # Get timestamps and data\n",
    "        timestamps = data.timestamps[:] if data.timestamps is not None else np.arange(len(data.data))\n",
    "        \n",
    "        # Plot a subset of the data to avoid overwhelming the plot\n",
    "        max_points = 10000\n",
    "        if len(timestamps) > max_points:\n",
    "            step = len(timestamps) // max_points\n",
    "            plt.plot(timestamps[::step], data.data[::step])\n",
    "        else:\n",
    "            plt.plot(timestamps, data.data[:])\n",
    "        \n",
    "        plt.title(name)\n",
    "        plt.xlabel('Time (s)')\n",
    "        plt.ylabel(f'{data.unit}')\n",
    "    \n",
    "    plt.tight_layout()\n",
    "    plt.show()\n",
    "else:\n",
    "    print(\"No wing kinematics data found to plot.\")"
   ]
  },
  {
   "cell_type": "markdown",
   "metadata": {},
   "source": [
    "## Explore DeepLabCut pose estimation data\n",
    "\n",
    "The Fox Lab NWB file contains DeepLabCut pose estimation data for tracking body parts."
   ]
  },
  {
   "cell_type": "code",
   "execution_count": null,
   "metadata": {},
   "outputs": [],
   "source": [
    "# Check if the behavior processing module exists\n",
    "if \"behavior\" in nwbfile.processing:\n",
    "    # Get the behavior processing module\n",
    "    processing_modules = nwbfile.processing[\"behavior\"]\n",
    "    \n",
    "    # List all data interfaces in the behavior module\n",
    "    print(\"Data interfaces in behavior module:\")\n",
    "    for name, interface in processing_modules.data_interfaces.items():\n",
    "        print(f\"- {name} ({type(interface).__name__})\")\n",
    "    \n",
    "    # Find pose estimation modules\n",
    "    pose_estimation_modules = [module for name, module in processing_modules.data_interfaces.items() if \"Pose\" in name]\n",
    "    \n",
    "    if pose_estimation_modules:\n",
    "        # Get the first pose estimation module\n",
    "        pose_interface = pose_estimation_modules[0]\n",
    "        \n",
    "        # Get the pose estimation series\n",
    "        pose_estimation_series = pose_interface.pose_estimation_series\n",
    "        \n",
    "        # List all pose estimation series\n",
    "        print(\"\\nAvailable pose estimation series:\")\n",
    "        for name in pose_estimation_series.keys():\n",
    "            print(f\"- {name}\")\n",
    "    else:\n",
    "        print(\"No pose estimation modules found in the behavior module.\")\n",
    "else:\n",
    "    print(\"No behavior processing module found in the file.\")"
   ]
  },
  {
   "cell_type": "code",
   "execution_count": null,
   "metadata": {},
   "outputs": [],
   "source": [
    "# Plot pose estimation data for a specific body part\n",
    "if \"behavior\" in nwbfile.processing:\n",
    "    # Get the behavior processing module\n",
    "    processing_modules = nwbfile.processing[\"behavior\"]\n",
    "    \n",
    "    # Find pose estimation modules\n",
    "    pose_estimation_modules = [module for name, module in processing_modules.data_interfaces.items() if \"Pose\" in name]\n",
    "    \n",
    "    if pose_estimation_modules:\n",
    "        # Get the first pose estimation module\n",
    "        pose_interface = pose_estimation_modules[1]\n",
    "        \n",
    "        # Get the pose estimation series\n",
    "        pose_estimation_series = pose_interface.pose_estimation_series\n",
    "        \n",
    "        if pose_estimation_series:\n",
    "            # Get the first series name\n",
    "            series_name = list(pose_estimation_series.keys())[0]\n",
    "            series = pose_estimation_series[series_name]\n",
    "            \n",
    "            # Get timestamps and data\n",
    "            timestamps = series.timestamps[:] if series.timestamps is not None else np.arange(len(series.data))\n",
    "            data = series.data[:]\n",
    "            \n",
    "            # Plot X and Y coordinates\n",
    "            plt.figure(figsize=(12, 6))\n",
    "            \n",
    "            plt.subplot(2, 1, 1)\n",
    "            plt.plot(timestamps, data[:, 0])\n",
    "            plt.title(f\"{series_name} - X Coordinate\")\n",
    "            plt.xlabel('Time (s)')\n",
    "            plt.ylabel('Position')\n",
    "            \n",
    "            plt.subplot(2, 1, 2)\n",
    "            plt.plot(timestamps, data[:, 1])\n",
    "            plt.title(f\"{series_name} - Y Coordinate\")\n",
    "            plt.xlabel('Time (s)')\n",
    "            plt.ylabel('Position')\n",
    "            \n",
    "            plt.tight_layout()\n",
    "            plt.show()\n",
    "            \n",
    "            # Plot trajectory (X vs Y)\n",
    "            plt.figure(figsize=(8, 8))\n",
    "            plt.plot(data[:, 0], data[:, 1])\n",
    "            plt.title(f\"{series_name} - Trajectory\")\n",
    "            plt.xlabel('X Position')\n",
    "            plt.ylabel('Y Position')\n",
    "            plt.axis('equal')\n",
    "            plt.grid(True)\n",
    "            plt.show()\n",
    "        else:\n",
    "            print(\"No pose estimation series found.\")\n",
    "    else:\n",
    "        print(\"No pose estimation modules found in the behavior module.\")\n",
    "else:\n",
    "    print(\"No behavior processing module found in the file.\")"
   ]
  }
 ],
 "metadata": {
  "kernelspec": {
   "display_name": "work",
   "language": "python",
   "name": "python3"
  },
  "language_info": {
   "codemirror_mode": {
    "name": "ipython",
    "version": 3
   },
   "file_extension": ".py",
   "mimetype": "text/x-python",
   "name": "python",
   "nbconvert_exporter": "python",
   "pygments_lexer": "ipython3",
   "version": "3.11.9"
  }
 },
 "nbformat": 4,
 "nbformat_minor": 4
}
