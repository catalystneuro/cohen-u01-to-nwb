{
 "cells": [
  {
   "cell_type": "markdown",
   "metadata": {},
   "source": [
    "# Suver Lab NWB Conversion and Reader\n",
    "This notebook demonstrates how to convert Suver Lab data to NWB format and explore the resulting NWB files.\n",
    "\n",
    "## Ephys Experiments\n",
    "\n",
    "This Suver Lab data consists of in-vivo whole-cell patch clamp recordings in Drosophila melanogaster, along with video recordings of the animal's antennae, wingbeat data, and sensory input."
   ]
  },
  {
   "cell_type": "code",
   "execution_count": null,
   "metadata": {},
   "outputs": [],
   "source": [
    "import numpy as np\n",
    "import matplotlib.pyplot as plt\n",
    "from pathlib import Path\n",
    "from pynwb import read_nwb"
   ]
  },
  {
   "cell_type": "markdown",
   "metadata": {},
   "source": [
    "### Load and Explore the NWB File\n",
    "\n",
    "Now that we have converted the data to NWB format, let's load the NWB file and explore its contents."
   ]
  },
  {
   "cell_type": "code",
   "execution_count": null,
   "metadata": {},
   "outputs": [],
   "source": [
    "# Load the NWB file\n",
    "# Update this path to match your NWB file location\n",
    "nwbfile_path = Path(\"/home/heberto/cohen_project/Sample data/Suver Lab/nwb/antennae free_3-6dpe_24C06_experiment2.nwb\")\n",
    "assert nwbfile_path.exists(), f\"NWB file does not exist: {nwbfile_path}\"\n",
    "\n",
    "nwbfile = read_nwb(nwbfile_path)\n",
    "nwbfile"
   ]
  },
  {
   "cell_type": "code",
   "execution_count": null,
   "metadata": {},
   "outputs": [],
   "source": [
    "# Display general file metadata\n",
    "print(f\"NWB File: {nwbfile.identifier}\")\n",
    "print(f\"Session ID: {nwbfile.session_id}\")\n",
    "print(f\"Session Description: {nwbfile.session_description}\")\n",
    "print(f\"Session Start Time: {nwbfile.session_start_time}\")\n",
    "\n",
    "# Display subject information if available\n",
    "if nwbfile.subject is not None:\n",
    "    print(\"\\nSubject Information:\")\n",
    "    print(f\"Subject ID: {nwbfile.subject.subject_id if hasattr(nwbfile.subject, 'subject_id') else 'N/A'}\")\n",
    "    print(f\"Age: {nwbfile.subject.age if hasattr(nwbfile.subject, 'age') else 'N/A'}\")\n",
    "    print(f\"Sex: {nwbfile.subject.sex if hasattr(nwbfile.subject, 'sex') else 'N/A'}\")\n",
    "    print(f\"Genotype: {nwbfile.subject.genotype if hasattr(nwbfile.subject, 'genotype') else 'N/A'}\")\n",
    "    print(f\"Species: {nwbfile.subject.species if hasattr(nwbfile.subject, 'species') else 'N/A'}\")"
   ]
  },
  {
   "cell_type": "markdown",
   "metadata": {},
   "source": [
    "### Visualize the Stimulus and Response"
   ]
  },
  {
   "cell_type": "code",
   "execution_count": null,
   "metadata": {},
   "outputs": [],
   "source": [
    "# Initialize lists to store data\n",
    "stimuli = []\n",
    "responses = []\n",
    "\n",
    "# Get all intracellular recordings\n",
    "# Access the intracellular recordings from the NWB file\n",
    "# The recordings are stored in the 'intracellular_recordings' table\n",
    "icephys_table_df = nwbfile.intracellular_recordings.to_dataframe()\n",
    "\n",
    "\n",
    "number_of_frames = len(icephys_table_df)\n",
    "\n",
    "# Extract patch clamp data directly from the table\n",
    "for frame_index in range(number_of_frames):\n",
    "    row = icephys_table_df.iloc[frame_index]\n",
    "    stimulus = row[\"stimuli\"][\"stimulus\"]\n",
    "    response = row[\"responses\"][\"response\"]\n",
    "    \n",
    "    # We exclude the seal tests\n",
    "    name_stimulus = stimulus.timeseries.name\n",
    "    if \"Seal\" in name_stimulus:\n",
    "        continue\n",
    "    stimuli.append(stimulus.timeseries)\n",
    "    responses.append(response.timeseries)\n",
    "    \n",
    "# Stack the stimuli as 2D array\n",
    "stimuli_data = np.vstack([s.data[:] for s in stimuli])\n",
    "responses_data = np.vstack([r.data[:] for r in responses])\n",
    "\n",
    "tachometers = [ts for ts in nwbfile.acquisition.values() if \"Tachometer\" in ts.name]\n",
    "puffers = [ts for ts in nwbfile.stimulus.values() if \"Puffer\" in ts.name]\n",
    "\n",
    "tachometer_data = [ts.data[:] for ts in tachometers]\n",
    "puffer_data = [ts.data[:] for ts in puffers]\n",
    "\n",
    "\n",
    "mean_stimulus = np.mean(stimuli_data, axis=0)\n",
    "mean_response = np.mean(responses_data, axis=0)\n",
    "mean_tachometer = np.mean(tachometer_data, axis=0)\n",
    "mean_puffer = np.mean(puffer_data, axis=0)\n",
    "\n",
    "# Create time vectors (assuming same timebase for all traces)\n",
    "# Stimulus time vector\n",
    "\n",
    "rate = stimuli[0].rate\n",
    "num_samples = len(stimuli[0].data)\n",
    "time_stimulus = np.arange(num_samples) / rate\n",
    "\n",
    "rate = responses[0].rate\n",
    "num_samples = len(responses[0].data)\n",
    "time_response = np.arange(num_samples) / rate\n",
    "\n",
    "# Tachometer time vector\n",
    "\n",
    "rate = tachometers[0].rate\n",
    "num_samples = len(tachometers[0].data)\n",
    "time_tachometer = np.arange(num_samples) / rate\n",
    "\n",
    "# Puffer time vector\n",
    "\n",
    "rate = puffers[0].rate\n",
    "num_samples = len(puffers[0].data)\n",
    "time_puffer = np.arange(num_samples) / rate\n",
    "\n",
    "\n",
    "# Create figure with 2x2 subplots\n",
    "fig, axs = plt.subplots(2, 2, figsize=(15, 10))\n",
    "fig.tight_layout(pad=4.0)\n",
    "\n",
    "# Define colors\n",
    "stimulus_color = 'blue'\n",
    "response_color = 'green'\n",
    "tachometer_color = 'red'\n",
    "puffer_color = 'purple'\n",
    "\n",
    "# Plot 1: Stimulus data (top-left)\n",
    "alpha_samples = 0.1\n",
    "linewidth_samples = 0.5\n",
    "plot_samples = True\n",
    "\n",
    "if plot_samples:\n",
    "    for i in range(len(stimuli_data)):\n",
    "        axs[0, 0].plot(time_stimulus, stimuli_data[i], color=stimulus_color, alpha=alpha_samples, linewidth=linewidth_samples)\n",
    "axs[0, 0].plot(time_stimulus, mean_stimulus, color=stimulus_color, linewidth=3.0, label='Mean')\n",
    "axs[0, 0].set_title('Stimulus Traces')\n",
    "axs[0, 0].set_xlabel('Time')\n",
    "axs[0, 0].set_ylabel('Stimulus Amplitude')\n",
    "axs[0, 0].grid(True)\n",
    "axs[0, 0].legend()\n",
    "\n",
    "# Plot 2: Response data (top-right)\n",
    "if plot_samples:\n",
    "    for i in range(len(responses_data)):\n",
    "        axs[0, 1].plot(time_response, responses_data[i], color=response_color, alpha=alpha_samples, linewidth=linewidth_samples)\n",
    "axs[0, 1].plot(time_response, mean_response, color=response_color, linewidth=3.0, label='Mean')\n",
    "axs[0, 1].set_title('Response Traces')\n",
    "axs[0, 1].set_xlabel('Time')\n",
    "axs[0, 1].set_ylabel('Response Amplitude')\n",
    "axs[0, 1].grid(True)\n",
    "axs[0, 1].legend()\n",
    "\n",
    "# Plot 3: Tachometer data (bottom-left)\n",
    "if plot_samples:\n",
    "    for i in range(len(tachometer_data)):\n",
    "        axs[1, 0].plot(time_tachometer, tachometer_data[i], color=tachometer_color, alpha=alpha_samples, linewidth=linewidth_samples)\n",
    "axs[1, 0].plot(time_tachometer, mean_tachometer, color=tachometer_color, linewidth=3.0, label='Mean')\n",
    "axs[1, 0].set_title('Tachometer Traces')\n",
    "axs[1, 0].set_xlabel('Time')\n",
    "axs[1, 0].set_ylabel('Tachometer Value')\n",
    "axs[1, 0].grid(True)\n",
    "axs[1, 0].legend()\n",
    "\n",
    "# Plot 4: Puffer data (bottom-right)\n",
    "if plot_samples:\n",
    "    for i in range(len(puffer_data)):\n",
    "        axs[1, 1].plot(time_puffer, puffer_data[i], color=puffer_color, alpha=alpha_samples, linewidth=linewidth_samples)\n",
    "axs[1, 1].plot(time_puffer, mean_puffer, color=puffer_color, linewidth=3.0, label='Mean')\n",
    "axs[1, 1].set_title('Puffer Traces')\n",
    "axs[1, 1].set_xlabel('Time')\n",
    "axs[1, 1].set_ylabel('Puffer Value')\n",
    "axs[1, 1].grid(True)\n",
    "axs[1, 1].legend()\n"
   ]
  },
  {
   "cell_type": "markdown",
   "metadata": {},
   "source": [
    "### Visualize the Pose Estimation (DeepLabCut Data)"
   ]
  },
  {
   "cell_type": "code",
   "execution_count": null,
   "metadata": {},
   "outputs": [],
   "source": [
    "behavior_module = nwbfile.processing[\"behavior\"]\n",
    "pose_estimation_container = behavior_module[\"PoseEstimationLateralFlyLeft_trial10\"]\n",
    "pose_estimation_container"
   ]
  },
  {
   "cell_type": "code",
   "execution_count": null,
   "metadata": {},
   "outputs": [],
   "source": [
    "pose_estimation_series = pose_estimation_container.pose_estimation_series\n",
    "\n",
    "# Count the number of nodes\n",
    "num_nodes = len(pose_estimation_series)\n",
    "\n",
    "# Create a figure with a grid\n",
    "# 1 row per node, 3 columns (for the three different plots)\n",
    "fig, axes = plt.subplots(num_nodes, 3, figsize=(18, 5 * num_nodes))\n",
    "\n",
    "# If there's only one node, make sure axes is a 2D array\n",
    "if num_nodes == 1:\n",
    "    axes = np.array([axes])\n",
    "\n",
    "# Iterate through nodes\n",
    "for i, node in enumerate(pose_estimation_series):\n",
    "    pose_estimation = pose_estimation_series[node]\n",
    "    data = pose_estimation.data[:]\n",
    "    \n",
    "    # Get timestamps\n",
    "    if pose_estimation.timestamps is not None:\n",
    "        timestamps = pose_estimation.timestamps[:]\n",
    "    else:\n",
    "        timestamps = pose_estimation.starting_time + np.arange(data.shape[0]) / pose_estimation.rate\n",
    "    \n",
    "    # Plot 1: Pose Estimation (X vs Y)\n",
    "    axes[i, 0].plot(data[:, 0], data[:, 1], label=node)\n",
    "    axes[i, 0].set_title(f\"Pose Estimation: {node}\")\n",
    "    axes[i, 0].set_xlabel(\"X Position\")\n",
    "    axes[i, 0].set_ylabel(\"Y Position\")\n",
    "    axes[i, 0].legend()\n",
    "    \n",
    "    # Plot 2: X Position over time\n",
    "    axes[i, 1].plot(timestamps, data[:, 0], color='blue', alpha=0.5, linewidth=0.5)\n",
    "    axes[i, 1].set_title(f\"Pose Estimation X Position: {node}\")\n",
    "    axes[i, 1].set_xlabel(\"Timestamps\")\n",
    "    axes[i, 1].set_ylabel(\"X Position\")\n",
    "    \n",
    "    # Plot 3: Y Position over time\n",
    "    axes[i, 2].plot(timestamps, data[:, 1], color='red', alpha=0.5, linewidth=0.5)\n",
    "    axes[i, 2].set_title(f\"Pose Estimation Y Position: {node}\")\n",
    "    axes[i, 2].set_xlabel(\"Timestamps\")\n",
    "    axes[i, 2].set_ylabel(\"Y Position\")\n",
    "\n",
    "# Adjust layout to prevent overlap\n",
    "plt.tight_layout()\n",
    "plt.show()"
   ]
  },
  {
   "cell_type": "code",
   "execution_count": null,
   "metadata": {},
   "outputs": [],
   "source": [
    "data"
   ]
  },
  {
   "cell_type": "markdown",
   "metadata": {},
   "source": [
    "## Behavioral Experiments"
   ]
  },
  {
   "cell_type": "markdown",
   "metadata": {},
   "source": [
    "### Windy Steps"
   ]
  },
  {
   "cell_type": "code",
   "execution_count": null,
   "metadata": {},
   "outputs": [],
   "source": [
    "from pynwb import read_nwb\n",
    "\n",
    "nwbfile = read_nwb(\"/home/heberto/cohen_project/Sample data/Suver Lab/nwb/WindySteps_dark_3-5days.nwb\")\n",
    "nwbfile"
   ]
  },
  {
   "cell_type": "code",
   "execution_count": null,
   "metadata": {},
   "outputs": [],
   "source": [
    "nwbfile.trials.to_dataframe()\n"
   ]
  },
  {
   "cell_type": "markdown",
   "metadata": {},
   "source": [
    "### Speedy Bars"
   ]
  },
  {
   "cell_type": "code",
   "execution_count": null,
   "metadata": {},
   "outputs": [],
   "source": [
    "from pynwb import read_nwb\n",
    "nwbfile = read_nwb(\"/home/heberto/cohen_project/Sample data/Suver Lab/nwb/SpeedyBars_still_5-7days.nwb\")\n",
    "nwbfile"
   ]
  },
  {
   "cell_type": "code",
   "execution_count": null,
   "metadata": {},
   "outputs": [],
   "source": [
    "nwbfile.trials.to_dataframe()"
   ]
  },
  {
   "cell_type": "markdown",
   "metadata": {},
   "source": [
    "### Coco "
   ]
  },
  {
   "cell_type": "code",
   "execution_count": null,
   "metadata": {},
   "outputs": [],
   "source": [
    "from pynwb import read_nwb\n",
    "\n",
    "nwbfile = read_nwb(\"/home/heberto/cohen_project/Sample data/Suver Lab/nwb/Coco_both_3-5days.nwb\")\n",
    "nwbfile"
   ]
  },
  {
   "cell_type": "code",
   "execution_count": null,
   "metadata": {},
   "outputs": [],
   "source": [
    "nwbfile.trials.to_dataframe()"
   ]
  },
  {
   "cell_type": "code",
   "execution_count": null,
   "metadata": {},
   "outputs": [],
   "source": []
  }
 ],
 "metadata": {
  "kernelspec": {
   "display_name": "work",
   "language": "python",
   "name": "python3"
  },
  "language_info": {
   "codemirror_mode": {
    "name": "ipython",
    "version": 3
   },
   "file_extension": ".py",
   "mimetype": "text/x-python",
   "name": "python",
   "nbconvert_exporter": "python",
   "pygments_lexer": "ipython3",
   "version": "3.11.9"
  }
 },
 "nbformat": 4,
 "nbformat_minor": 4
}
